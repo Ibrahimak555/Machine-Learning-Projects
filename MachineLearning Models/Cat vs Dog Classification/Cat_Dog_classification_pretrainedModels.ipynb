{
  "cells": [
    {
      "cell_type": "markdown",
      "source": [
        "**Cat vs Dog classification** done using pretrained models: AlexNet, ResNet, VGG16, Inception-v3, MobileNet"
      ],
      "metadata": {
        "id": "IG7zNDaZEMEa"
      }
    },
    {
      "cell_type": "code",
      "execution_count": null,
      "metadata": {
        "colab": {
          "background_save": true
        },
        "id": "B5dhOfwMHqsu"
      },
      "outputs": [],
      "source": [
        "!mkdir -p ~/.kaggle\n",
        "!cp kaggle.json ~/.kaggle/"
      ]
    },
    {
      "cell_type": "code",
      "execution_count": null,
      "metadata": {
        "colab": {
          "base_uri": "https://localhost:8080/"
        },
        "id": "8VhXuVn7IGEs",
        "outputId": "31bd550c-f914-449f-c5d4-750074957835"
      },
      "outputs": [
        {
          "name": "stdout",
          "output_type": "stream",
          "text": [
            "Warning: Your Kaggle API key is readable by other users on this system! To fix this, you can run 'chmod 600 /root/.kaggle/kaggle.json'\n",
            "Downloading dogs-vs-cats.zip to /content\n",
            "100% 1.06G/1.06G [00:48<00:00, 24.5MB/s]\n",
            "100% 1.06G/1.06G [00:48<00:00, 23.8MB/s]\n"
          ]
        }
      ],
      "source": [
        "!kaggle datasets download -d salader/dogs-vs-cats"
      ]
    },
    {
      "cell_type": "code",
      "execution_count": null,
      "metadata": {
        "id": "OS4O7HBvIRkt"
      },
      "outputs": [],
      "source": [
        "import zipfile\n",
        "zip_ref = zipfile.ZipFile('/content/dogs-vs-cats.zip', 'r')\n",
        "zip_ref.extractall('/content')\n",
        "zip_ref.close()"
      ]
    },
    {
      "cell_type": "code",
      "execution_count": null,
      "metadata": {
        "id": "nrBhb9kOIS12"
      },
      "outputs": [],
      "source": [
        "import numpy as np\n",
        "import tensorflow as tf\n",
        "from tensorflow.keras.preprocessing.image import ImageDataGenerator\n",
        "from keras.applications.resnet50 import ResNet50\n",
        "from keras.applications.vgg16 import VGG16\n",
        "from keras.applications.inception_v3 import InceptionV3\n",
        "from keras.applications.mobilenet import MobileNet"
      ]
    },
    {
      "cell_type": "code",
      "execution_count": null,
      "metadata": {
        "id": "ZRhXTu7yIWDg"
      },
      "outputs": [],
      "source": [
        "# Define input image dimensions\n",
        "img_width, img_height = 256, 256\n",
        "input_shape = (img_width, img_height, 3)"
      ]
    },
    {
      "cell_type": "code",
      "source": [
        "# AlexNet model\n",
        "\n",
        "import tensorflow as tf\n",
        "from tensorflow import keras\n",
        "from keras import Sequential\n",
        "from keras.layers import Dense,Conv2D,MaxPooling2D,Flatten,BatchNormalization,Dropout\n",
        "\n",
        "model = Sequential()\n",
        "\n",
        "model.add(Conv2D(96,kernel_size=(11,11), strides=(4,4),padding='valid',activation='relu',input_shape=(256,256,3)))\n",
        "model.add(BatchNormalization())\n",
        "model.add(MaxPooling2D(pool_size=(3,3),strides=2,padding='valid'))\n",
        "\n",
        "model.add(Conv2D(256,kernel_size=(5,5),padding='valid',activation='relu'))\n",
        "model.add(BatchNormalization())\n",
        "model.add(MaxPooling2D(pool_size=(3,3),strides=2,padding='valid'))\n",
        "\n",
        "model.add(Conv2D(384,kernel_size=(3,3),padding='valid',activation='relu'))\n",
        "model.add(BatchNormalization())\n",
        "model.add(Conv2D(384,kernel_size=(3,3),padding='valid',activation='relu'))\n",
        "model.add(BatchNormalization())\n",
        "model.add(Conv2D(256,kernel_size=(3,3),padding='valid',activation='relu'))\n",
        "model.add(BatchNormalization())\n",
        "model.add(MaxPooling2D(pool_size=(3,3),strides=2,padding='valid'))\n",
        "\n",
        "model.add(Flatten())\n",
        "\n",
        "model.add(Dense(4096,activation='relu'))\n",
        "model.add(Dropout(0.1))\n",
        "model.add(Dense(4096,activation='relu'))\n",
        "model.add(Dropout(0.1))\n",
        "model.add(Dense(1,activation='sigmoid'))\n",
        "\n",
        "model.summary()"
      ],
      "metadata": {
        "id": "LrKOTNahD1F6"
      },
      "execution_count": null,
      "outputs": []
    },
    {
      "cell_type": "code",
      "execution_count": null,
      "metadata": {
        "colab": {
          "base_uri": "https://localhost:8080/"
        },
        "id": "TQqVV0OCIYqn",
        "outputId": "850e4e56-cc0d-4ec3-b2b6-d292534ab025"
      },
      "outputs": [
        {
          "name": "stdout",
          "output_type": "stream",
          "text": [
            "Downloading data from https://storage.googleapis.com/tensorflow/keras-applications/resnet/resnet50_weights_tf_dim_ordering_tf_kernels_notop.h5\n",
            "94765736/94765736 [==============================] - 5s 0us/step\n",
            "Downloading data from https://storage.googleapis.com/tensorflow/keras-applications/vgg16/vgg16_weights_tf_dim_ordering_tf_kernels_notop.h5\n",
            "58889256/58889256 [==============================] - 3s 0us/step\n",
            "Downloading data from https://storage.googleapis.com/tensorflow/keras-applications/inception_v3/inception_v3_weights_tf_dim_ordering_tf_kernels_notop.h5\n",
            "87910968/87910968 [==============================] - 5s 0us/step\n"
          ]
        },
        {
          "name": "stderr",
          "output_type": "stream",
          "text": [
            "WARNING:tensorflow:`input_shape` is undefined or non-square, or `rows` is not in [128, 160, 192, 224]. Weights for input shape (224, 224) will be loaded as the default.\n"
          ]
        },
        {
          "name": "stdout",
          "output_type": "stream",
          "text": [
            "Downloading data from https://storage.googleapis.com/tensorflow/keras-applications/mobilenet/mobilenet_1_0_224_tf_no_top.h5\n",
            "17225924/17225924 [==============================] - 2s 0us/step\n"
          ]
        }
      ],
      "source": [
        "# Load the pre-trained models\n",
        "models = {\n",
        "    \"AlexNet\": model(),\n",
        "    \"ResNet\": ResNet50(weights='imagenet', include_top=False, input_shape=input_shape),\n",
        "    \"VGG16\": VGG16(weights='imagenet', include_top=False, input_shape=input_shape),\n",
        "    \"Inception-v3\": InceptionV3(weights='imagenet', include_top=False, input_shape=input_shape),\n",
        "    \"MobileNet\": MobileNet(weights='imagenet', include_top=False, input_shape=input_shape)\n",
        "}"
      ]
    },
    {
      "cell_type": "code",
      "execution_count": null,
      "metadata": {
        "colab": {
          "base_uri": "https://localhost:8080/"
        },
        "id": "tQcRNkWeIgBo",
        "outputId": "51a2132e-028b-42d5-e0ff-0cc57fab9535"
      },
      "outputs": [
        {
          "name": "stdout",
          "output_type": "stream",
          "text": [
            "Found 20000 images belonging to 2 classes.\n",
            "Found 5000 images belonging to 2 classes.\n"
          ]
        }
      ],
      "source": [
        "# Prepare data generators\n",
        "train_datagen = ImageDataGenerator(rescale=1. / 255)\n",
        "test_datagen = ImageDataGenerator(rescale=1. / 255)\n",
        "\n",
        "train_generator = train_datagen.flow_from_directory(\n",
        "    '/content/train',\n",
        "    target_size=(img_width, img_height),\n",
        "    batch_size=32,\n",
        "    class_mode='binary')\n",
        "\n",
        "validation_generator = test_datagen.flow_from_directory(\n",
        "    '/content/test',\n",
        "    target_size=(img_width, img_height),\n",
        "    batch_size=32,\n",
        "    class_mode='binary')"
      ]
    },
    {
      "cell_type": "code",
      "execution_count": null,
      "metadata": {
        "colab": {
          "base_uri": "https://localhost:8080/"
        },
        "id": "74Mz-OyjIhQD",
        "outputId": "560217d4-3926-4b4d-8596-aac39d6f5c69"
      },
      "outputs": [
        {
          "name": "stdout",
          "output_type": "stream",
          "text": [
            "Epoch 1/5\n",
            "625/625 [==============================] - 112s 166ms/step - loss: 0.8607 - accuracy: 0.6190 - val_loss: 0.5928 - val_accuracy: 0.6988\n",
            "Epoch 2/5\n",
            "625/625 [==============================] - 103s 164ms/step - loss: 0.7238 - accuracy: 0.6712 - val_loss: 0.6343 - val_accuracy: 0.6904\n",
            "Epoch 3/5\n",
            "625/625 [==============================] - 103s 164ms/step - loss: 0.7085 - accuracy: 0.6855 - val_loss: 0.7329 - val_accuracy: 0.6384\n",
            "Epoch 4/5\n",
            "625/625 [==============================] - 104s 167ms/step - loss: 0.6696 - accuracy: 0.7020 - val_loss: 0.7052 - val_accuracy: 0.6724\n",
            "Epoch 5/5\n",
            "625/625 [==============================] - 103s 164ms/step - loss: 0.6191 - accuracy: 0.7199 - val_loss: 0.7375 - val_accuracy: 0.6688\n",
            "Epoch 1/5\n",
            "625/625 [==============================] - 146s 221ms/step - loss: 0.2285 - accuracy: 0.9042 - val_loss: 0.2293 - val_accuracy: 0.8994\n",
            "Epoch 2/5\n",
            "625/625 [==============================] - 128s 205ms/step - loss: 0.1335 - accuracy: 0.9466 - val_loss: 0.1750 - val_accuracy: 0.9276\n",
            "Epoch 3/5\n",
            "625/625 [==============================] - 130s 208ms/step - loss: 0.0974 - accuracy: 0.9617 - val_loss: 0.1699 - val_accuracy: 0.9326\n",
            "Epoch 4/5\n",
            "625/625 [==============================] - 133s 213ms/step - loss: 0.0675 - accuracy: 0.9761 - val_loss: 0.1558 - val_accuracy: 0.9378\n",
            "Epoch 5/5\n",
            "625/625 [==============================] - 135s 216ms/step - loss: 0.0553 - accuracy: 0.9811 - val_loss: 0.2166 - val_accuracy: 0.9258\n",
            "Epoch 1/5\n",
            "625/625 [==============================] - 86s 126ms/step - loss: 0.2587 - accuracy: 0.9822 - val_loss: 0.2391 - val_accuracy: 0.9858\n",
            "Epoch 2/5\n",
            "625/625 [==============================] - 75s 120ms/step - loss: 0.1478 - accuracy: 0.9910 - val_loss: 0.2231 - val_accuracy: 0.9906\n",
            "Epoch 3/5\n",
            "625/625 [==============================] - 75s 121ms/step - loss: 0.0708 - accuracy: 0.9952 - val_loss: 0.2394 - val_accuracy: 0.9890\n",
            "Epoch 4/5\n",
            "625/625 [==============================] - 76s 121ms/step - loss: 0.0272 - accuracy: 0.9977 - val_loss: 0.2604 - val_accuracy: 0.9896\n",
            "Epoch 5/5\n",
            "331/625 [==============>...............] - ETA: 29s - loss: 0.0349 - accuracy: 0.9975"
          ]
        }
      ],
      "source": [
        "# Define and compile models\n",
        "results = {}\n",
        "\n",
        "for model_name, model in models.items():\n",
        "    model.layers.pop()  # Remove the last layer\n",
        "    for layer in model.layers:\n",
        "        layer.trainable = False  # Freeze the pre-trained layers\n",
        "    x = tf.keras.layers.Flatten()(model.output)\n",
        "    x = tf.keras.layers.Dense(1, activation='sigmoid')(x)\n",
        "    cnn_model = tf.keras.Model(model.input, x)\n",
        "    cnn_model.compile(optimizer='adam', loss='binary_crossentropy', metrics=['accuracy'])\n",
        "\n",
        "    # Train the model\n",
        "    history = cnn_model.fit(train_generator, epochs=10, validation_data=validation_generator)\n",
        "    results[model_name] = history.history['val_accuracy']"
      ]
    },
    {
      "cell_type": "code",
      "execution_count": null,
      "metadata": {
        "id": "FisllhP5J_j4"
      },
      "outputs": [],
      "source": [
        "# Display accuracy of each model\n",
        "for model_name, accuracy in results.items():\n",
        "    print(f\"{model_name}: Validation Accuracy - {np.max(accuracy)}\")"
      ]
    }
  ],
  "metadata": {
    "accelerator": "GPU",
    "colab": {
      "gpuType": "T4",
      "provenance": []
    },
    "kernelspec": {
      "display_name": "Python 3",
      "name": "python3"
    },
    "language_info": {
      "name": "python"
    }
  },
  "nbformat": 4,
  "nbformat_minor": 0
}